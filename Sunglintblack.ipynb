{
 "cells": [
  {
   "cell_type": "code",
   "execution_count": 1,
   "id": "f0ebf7d3-136c-4571-89d8-c28da387c182",
   "metadata": {},
   "outputs": [],
   "source": [
    "# Sun Glint Correction for Hyperspectral Imagery in Python\n"
   ]
  },
  {
   "cell_type": "code",
   "execution_count": null,
   "id": "f21eac1a-644b-451a-b82c-6535909d5dfd",
   "metadata": {},
   "outputs": [],
   "source": [
    "# Show sun glint in Hyperspectral Imagery as black pixel\n",
    "# Objective: All sun glint pixel are masked as black parts, while the rest of the image is not affected and remains unchanged\n",
    "# Masking of reflectance above a certain threshold value\n",
    "\n",
    "import cv2\n",
    "import numpy as np\n",
    "import numpy.ma as ma\n",
    "\n",
    "# Load hyperspectral TIFF file\n",
    "    \n",
    "\n",
    "def sunglintblack (file_path, output_path,threshold)\n",
    "\n",
    "    file_path = \"file.tiff\"\n",
    "    output_path = \"editedimage.tiff\"\n",
    "    \n",
    "    image = cv2.imread(file_path)\n",
    "\n",
    "    if image is None:\n",
    "        raise ValueError(\"Image could not be found.\")\n",
    "\n",
    "    \n",
    "    # example, has to be chosen individually regarding the reflectance data\n",
    "    threshold = 10\n",
    "\n",
    "    # find sun glint pixels in the data\n",
    "    maske = np.any(image>= threshold, axis =-1)\n",
    "    \n",
    "    # masking sun glint\n",
    "    masked_image = np.ma.masked_array(image, maske=np.stack([maske]*3, axis=-1))\n",
    "    \n",
    "    # mask of sun glint pixels, fill them with black color\n",
    "    result_image = masked_image.filled(fill_value=[0,0,0])\n",
    "    \n",
    "    # Saving the image\n",
    "    cv2.imwrite(output_path, result_image)\n",
    "\n",
    "    # final plot\n",
    "    cv2.imshow ('Sun Glint-korrigiertes Bild', result_image)\n",
    "    cv2.waitKey(0) # Function is waiting for the user to press a button\n",
    "    cv2.destroyAllWindows() # Closes all open CV windows\n",
    "    "
   ]
  }
 ],
 "metadata": {
  "kernelspec": {
   "display_name": "anaconda-panel-2023.05-py310",
   "language": "python",
   "name": "conda-env-anaconda-panel-2023.05-py310-py"
  },
  "language_info": {
   "codemirror_mode": {
    "name": "ipython",
    "version": 3
   },
   "file_extension": ".py",
   "mimetype": "text/x-python",
   "name": "python",
   "nbconvert_exporter": "python",
   "pygments_lexer": "ipython3",
   "version": "3.11.5"
  }
 },
 "nbformat": 4,
 "nbformat_minor": 5
}
