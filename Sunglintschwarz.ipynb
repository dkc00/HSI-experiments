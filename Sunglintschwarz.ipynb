{
 "cells": [
  {
   "cell_type": "code",
   "execution_count": 1,
   "id": "f0ebf7d3-136c-4571-89d8-c28da387c182",
   "metadata": {},
   "outputs": [],
   "source": [
    "# Sun Glint-Korrektur auf Hyperspektralaufnahmen und Implementierung in Python\n"
   ]
  },
  {
   "cell_type": "code",
   "execution_count": null,
   "id": "f21eac1a-644b-451a-b82c-6535909d5dfd",
   "metadata": {},
   "outputs": [],
   "source": [
    "# Sun Glint im Bild schwarz darstellen\n",
    "# Ziel: ein Bild, in dem die Sun Glint Pixel schwarz und der Rest unverändert ist\n",
    "# Reflektanz über einem gewissen Wert soll maskiert werden\n",
    "\n",
    "import cv2\n",
    "import numpy as np\n",
    "import numpy.ma as ma\n",
    "\n",
    "# TIFF-Hyperspektralbild einladen\n",
    "# Beispiel, Hier Pfad zum Bild einsetzen\n",
    "    \n",
    "\n",
    "def sunglintschwarz (file_path, output_path,threshold)\n",
    "\n",
    "    file_path = \"file.tiff\"\n",
    "    output_path = \"korrigiertesbild.tiff\"\n",
    "    \n",
    "    image = cv2.imread(file_path)\n",
    "\n",
    "    if image is None:\n",
    "        raise ValueError(\"Bild konnte nicht gefunden werden.\")\n",
    "\n",
    "    \n",
    "    # Beispielwert. Festlegen eines Schwellenwertes für die Korrektur.\n",
    "    threshold = 10\n",
    "\n",
    "    # Sun Glint erkennen\n",
    "    maske = np.any(image>= threshold, axis =-1)\n",
    "    \n",
    "    # Sun Glint Pixel werden maskiert\n",
    "    masked_image = np.ma.masked_array(image, maske=np.stack([maske]*3, axis=-1))\n",
    "    \n",
    "    # Maskierte Pixel werden geschwärzt\n",
    "    result_image = masked_image.filled(fill_value=[0,0,0])\n",
    "    \n",
    "    # Bild abspeichern\n",
    "    cv2.imwrite(output_path, result_image)\n",
    "\n",
    "    # Finales Plotten des Bildes\n",
    "    cv2.imshow ('Sun Glint-korrigiertes Bild', result_image)\n",
    "    cv2.waitKey(0) #Funktion wartet, bis Taste gedrückt wird\n",
    "    cv2.destroyAllWindows() #Schließt alle von OpenCV geöffneten Fenster.\n",
    "    "
   ]
  }
 ],
 "metadata": {
  "kernelspec": {
   "display_name": "anaconda-panel-2023.05-py310",
   "language": "python",
   "name": "conda-env-anaconda-panel-2023.05-py310-py"
  },
  "language_info": {
   "codemirror_mode": {
    "name": "ipython",
    "version": 3
   },
   "file_extension": ".py",
   "mimetype": "text/x-python",
   "name": "python",
   "nbconvert_exporter": "python",
   "pygments_lexer": "ipython3",
   "version": "3.11.5"
  }
 },
 "nbformat": 4,
 "nbformat_minor": 5
}
