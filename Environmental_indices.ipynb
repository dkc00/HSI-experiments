{
 "cells": [
  {
   "cell_type": "markdown",
   "id": "e510b0ef-f0f9-4ee6-9b96-cb6af0c0855e",
   "metadata": {},
   "source": [
    "Overview regarding environmental indices which can be used for the investigation of harmful algae blooms (HABs) in aquatic ecosystems."
   ]
  },
  {
   "cell_type": "markdown",
   "id": "f12a21d1-5b50-40a6-b420-b2492e9fc576",
   "metadata": {},
   "source": [
    " ## NDCI (Normalized Difference Chlorophyll Index)"
   ]
  },
  {
   "cell_type": "markdown",
   "id": "cdaeef52-db2e-4f9b-bb15-dfffbd533c7e",
   "metadata": {},
   "source": [
    "- Introduced by Mishra & Mishra (2012) (Normalized Difference chlorophyll index: A novel model for remote estimation of chlorophyll-a concentration in turbid productive waters\n",
    "- Based on the typical reflectance peak of chlorophyll a (Chl a) in water at 700nm as well as an absorption peak between 665nm and 675nm caused by Chl a pigments.\n",
    "  \n",
    "$NDCI = (R(708)/R(665))/(R(708)+R(665))$"
   ]
  },
  {
   "cell_type": "code",
   "execution_count": 5,
   "id": "2388a1c1-2c66-46e8-adfc-33632afc5b55",
   "metadata": {},
   "outputs": [],
   "source": [
    "# ndci = (R(708)-R(665))/(R(708)+R(665))"
   ]
  },
  {
   "cell_type": "markdown",
   "id": "21b1aae0-297d-40e9-9cd2-de1d90b175e7",
   "metadata": {},
   "source": [
    "- Scaled from -1 to 1. Algae blooms show usually values of >=0.4.\n",
    "- Values from -0.3 up to near 1 are typical of a medium/high amount of algae biomass in the water body\n",
    "- Pure water shows generally negative NDCI values "
   ]
  },
  {
   "cell_type": "markdown",
   "id": "c3e57dc6-db00-4ada-912a-dd0077dbdf54",
   "metadata": {},
   "source": [
    "### Publications regarding NDCI \n",
    "- Mishra S & Mishra D.R (2012) Normalized difference chlorophyll index: A novel model for remote estimation of chlorophyll-a concentration in turbid productive waters. Remote Sensing of Environment, Volume 117, pp. 394-406. Doi: 10.1016/j.rse.2011.10.016 <u>paper which introduced the index<u/>"
   ]
  },
  {
   "cell_type": "markdown",
   "id": "a00e8256-8ae3-460f-b1ea-de5223813e0b",
   "metadata": {},
   "source": [
    "## NDVI (Normalized Difference Vegetation Index)"
   ]
  },
  {
   "cell_type": "markdown",
   "id": "9cb13ee7-cff8-4614-b738-7ada29748dd0",
   "metadata": {},
   "source": [
    "- Originally used for monitoring of terrestrial vegetation, but also frequently applied in HAB assessment and management.\n",
    "- Scaled from -1 to 1 like the NDCI vegetation index.\n",
    "- \n",
    "\n",
    "$NDVI= (R(NIR)-R(RED))/(R(NIR)+R(RED))$"
   ]
  },
  {
   "cell_type": "markdown",
   "id": "bfa5febe-590b-4314-bade-dc0c45333c84",
   "metadata": {},
   "source": [
    "### Publications regarding NDVI \n",
    "- Choi B, Lee J, Park B, Sungjong L (2023) A study of cyanobacterial bloom monitoring using unmanned aerial vehicles, spectral indices, and image processing techniques. Heliyon, Volume 9, e16343. Doi: 10.1016/j.heiyon.2023.e16343\n",
    "<u>Monitoring of HABs in South Corean rivers, multi-scale approach (Sonde and UAV) and applying of NDVI, GNDVI, BNDVI and NDREI (normalized difference red edge index)<u/>\n",
    "- Ma J, Jin S, Li J, He Y, Shang W (2021) Spatio-Temporal Variations and Driving Forces of Harmful Algae Blooms in Chaohu Lake: A Multi-Source Remote Sensing Approach. Remote Sensing, Volume 13, Issue 427. Doi: 10.3390/rs13030427 <u>Assessment of HABs in a Chinese lake utilizing multiple satellite data sources (Sentinel 2, Terra/Aqua MODIS (Moderate-Resolution Imaging Spectroradiometer, 36 spectral bands, 0,4-14µm), Landsat 8 OLI </u>"
   ]
  },
  {
   "cell_type": "markdown",
   "id": "36f7ae39-3fea-4a81-b018-b0c0f9b36714",
   "metadata": {},
   "source": [
    "## FAI (Floating Algae Index)"
   ]
  },
  {
   "cell_type": "markdown",
   "id": "70524008-cbcf-46a6-9c40-f20f346b594b",
   "metadata": {},
   "source": [
    "- less affected by atmospheric effects and NIR reflectivity absorption of water\n",
    "- needs SWIR bands for calculation\n",
    "\n",
    "$ FAI = R(NIR)-R'(NIR) $ \n",
    "\n",
    "$ R'(NIR) = R(RED)+(R(SWIR)-R(RED))* ((λ(NIR)-λ(RED))/(λ(SWIR)-λ(RED))$ <u> (from Ma et al. 2021) </u>"
   ]
  },
  {
   "cell_type": "code",
   "execution_count": null,
   "id": "f9440614-0388-4ac2-9a7d-4dfd7d0f235e",
   "metadata": {},
   "outputs": [],
   "source": []
  }
 ],
 "metadata": {
  "kernelspec": {
   "display_name": "Python 3 (ipykernel)",
   "language": "python",
   "name": "python3"
  },
  "language_info": {
   "codemirror_mode": {
    "name": "ipython",
    "version": 3
   },
   "file_extension": ".py",
   "mimetype": "text/x-python",
   "name": "python",
   "nbconvert_exporter": "python",
   "pygments_lexer": "ipython3",
   "version": "3.11.7"
  }
 },
 "nbformat": 4,
 "nbformat_minor": 5
}
